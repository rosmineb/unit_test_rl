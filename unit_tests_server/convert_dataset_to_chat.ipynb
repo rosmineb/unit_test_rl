{
 "cells": [
  {
   "cell_type": "code",
   "execution_count": 5,
   "metadata": {},
   "outputs": [
    {
     "name": "stderr",
     "output_type": "stream",
     "text": [
      "Map:   0%|          | 0/6065 [00:00<?, ? examples/s]"
     ]
    },
    {
     "name": "stderr",
     "output_type": "stream",
     "text": [
      "Map: 100%|██████████| 6065/6065 [00:01<00:00, 3500.88 examples/s]\n",
      "Saving the dataset (3/3 shards): 100%|██████████| 6065/6065 [00:01<00:00, 4524.54 examples/s]\n"
     ]
    }
   ],
   "source": [
    "from datasets import load_from_disk\n",
    "\n",
    "dataset_name = \"/home/rosmine/data2/rl_codegen/datasets/pi_verifiable_no_fn_call_with_unit_tests_v2_train_with_reference_no_examples\"\n",
    "\n",
    "system_prompt = \"You are Qwen, created by Alibaba Cloud. You are a helpful assistant.\"\n",
    "\n",
    "dataset = load_from_disk(dataset_name)\n",
    "\n",
    "def convert_dataset_to_chat(example):\n",
    "    example['prompt'] = [{'role': 'system', 'content': system_prompt},\n",
    "                         {'role': 'user', 'content': example['prompt']}]\n",
    "    return example\n",
    "\n",
    "dataset = dataset.map(convert_dataset_to_chat)\n",
    "\n",
    "dataset.save_to_disk(dataset_name + \"_chat\")\n",
    "\n",
    "\n"
   ]
  },
  {
   "cell_type": "code",
   "execution_count": 4,
   "metadata": {},
   "outputs": [
    {
     "data": {
      "text/plain": [
       "{'messages': [{'content': 'You are Qwen, created by Alibaba Cloud. You are a helpful assistant.',\n",
       "   'role': 'system'},\n",
       "  {'content': \"Solve the following coding problem using the programming language python:\\n\\nGalois is one of the strongest chess players of Byteforces. He has even invented a new variant of chess, which he named «PawnChess».\\n\\nThis new game is played on a board consisting of 8 rows and 8 columns. At the beginning of every game some black and white pawns are placed on the board. The number of black pawns placed is not necessarily equal to the number of white pawns placed. \\n\\n<image>\\n\\nLets enumerate rows and columns with integers from 1 to 8. Rows are numbered from top to bottom, while columns are numbered from left to right. Now we denote as (r, c) the cell located at the row r and at the column c.\\n\\nThere are always two players A and B playing the game. Player A plays with white pawns, while player B plays with black ones. The goal of player A is to put any of his pawns to the row 1, while player B tries to put any of his pawns to the row 8. As soon as any of the players completes his goal the game finishes immediately and the succeeded player is declared a winner.\\n\\nPlayer A moves first and then they alternate turns. On his move player A must choose exactly one white pawn and move it one step upward and player B (at his turn) must choose exactly one black pawn and move it one step down. Any move is possible only if the targeted cell is empty. It's guaranteed that for any scenario of the game there will always be at least one move available for any of the players.\\n\\nMoving upward means that the pawn located in (r, c) will go to the cell (r - 1, c), while moving down means the pawn located in (r, c) will go to the cell (r + 1, c). Again, the corresponding cell must be empty, i.e. not occupied by any other pawn of any color.\\n\\nGiven the initial disposition of the board, determine who wins the game if both players play optimally. Note that there will always be a winner due to the restriction that for any game scenario both players will have some moves available.\\n\\nInput\\n\\nThe input consists of the board description given in eight lines, each line contains eight characters. Character 'B' is used to denote a black pawn, and character 'W' represents a white pawn. Empty cell is marked with '.'. \\n\\nIt's guaranteed that there will not be white pawns on the first row neither black pawns on the last row.\\n\\nOutput\\n\\nPrint 'A' if player A wins the game on the given board, and 'B' if player B will claim the victory. Again, it's guaranteed that there will always be a winner on the given board.\\nNote\\n\\nIn the first sample player A is able to complete his goal in 3 steps by always moving a pawn initially located at (4, 5). Player B needs at least 5 steps for any of his pawns to reach the row 8. Hence, player A will be the winner.\\n\\nThe input will be given via stdin and the output should be printed to stdout by your code.\\n\\nNow solve the problem by providing the code.\\nReturn the code within ```python ... ``` markup. Write unit tests for the code with the standard input/output like this: <test_input>(stdin)</test_input><test_output>(stdout)</test_output> tags. If you make multiple unit tests, use the <test_input> ... </test_input><test_output> ... </test_output> tags to write multiple unit tests one after another.\",\n",
       "   'role': 'user'}]}"
      ]
     },
     "execution_count": 4,
     "metadata": {},
     "output_type": "execute_result"
    }
   ],
   "source": [
    "dataset[0]['prompt']"
   ]
  }
 ],
 "metadata": {
  "kernelspec": {
   "display_name": "transformers",
   "language": "python",
   "name": "python3"
  },
  "language_info": {
   "codemirror_mode": {
    "name": "ipython",
    "version": 3
   },
   "file_extension": ".py",
   "mimetype": "text/x-python",
   "name": "python",
   "nbconvert_exporter": "python",
   "pygments_lexer": "ipython3",
   "version": "3.11.0"
  }
 },
 "nbformat": 4,
 "nbformat_minor": 2
}
