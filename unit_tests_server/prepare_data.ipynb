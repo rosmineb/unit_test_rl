{
 "cells": [
  {
   "cell_type": "code",
   "execution_count": 1,
   "metadata": {},
   "outputs": [
    {
     "name": "stderr",
     "output_type": "stream",
     "text": [
      "/home/rosmine/venv/transformers/lib/python3.11/site-packages/tqdm/auto.py:21: TqdmWarning: IProgress not found. Please update jupyter and ipywidgets. See https://ipywidgets.readthedocs.io/en/stable/user_install.html\n",
      "  from .autonotebook import tqdm as notebook_tqdm\n"
     ]
    }
   ],
   "source": [
    "from datasets import load_dataset\n",
    "\n",
    "dataset = load_dataset('PrimeIntellect/verifiable-coding-problems')\n"
   ]
  },
  {
   "cell_type": "code",
   "execution_count": 6,
   "metadata": {},
   "outputs": [
    {
     "name": "stderr",
     "output_type": "stream",
     "text": [
      "100%|██████████| 144169/144169 [03:27<00:00, 693.35it/s] \n"
     ]
    },
    {
     "data": {
      "text/plain": [
       "Counter({'stdin_stdout': 138530, 'function_call': 5639})"
      ]
     },
     "execution_count": 6,
     "metadata": {},
     "output_type": "execute_result"
    }
   ],
   "source": [
    "from collections import Counter, defaultdict\n",
    "from tqdm import tqdm\n",
    "\n",
    "count = 0\n",
    "types = []\n",
    "type_sample_map = defaultdict(list)\n",
    "for i in tqdm(range(len(dataset['train']))):\n",
    "    verification_info = eval(dataset['train'][i]['verification_info'])\n",
    "    types.append(verification_info['test_cases'][0]['type'])\n",
    "    type_sample_map[verification_info['test_cases'][0]['type']].append(dataset['train'][i])\n",
    "    # if verification_info['test_cases'][0]['type'] != 'stdin_stdout':\n",
    "        # print(verification_info)\n",
    "        # break\n",
    "\n",
    "Counter(types)"
   ]
  },
  {
   "cell_type": "code",
   "execution_count": 7,
   "metadata": {},
   "outputs": [
    {
     "data": {
      "text/plain": [
       "{'source': 'apps',\n",
       " 'task_type': 'verifiable_code',\n",
       " 'in_source_id': '0',\n",
       " 'prompt': 'Solve the following coding problem using the programming language python:\\n\\nPolycarp has $n$ different binary words. A word called binary if it contains only characters \\'0\\' and \\'1\\'. For example, these words are binary: \"0001\", \"11\", \"0\" and \"0011100\".\\n\\nPolycarp wants to offer his set of $n$ binary words to play a game \"words\". In this game, players name words and each next word (starting from the second) must start with the last character of the previous word. The first word can be any. For example, these sequence of words can be named during the game: \"0101\", \"1\", \"10\", \"00\", \"00001\".\\n\\nWord reversal is the operation of reversing the order of the characters. For example, the word \"0111\" after the reversal becomes \"1110\", the word \"11010\" after the reversal becomes \"01011\".\\n\\nProbably, Polycarp has such a set of words that there is no way to put them in the order correspondent to the game rules. In this situation, he wants to reverse some words from his set so that:  the final set of $n$ words still contains different words (i.e. all words are unique);  there is a way to put all words of the final set of words in the order so that the final sequence of $n$ words is consistent with the game rules. \\n\\nPolycarp wants to reverse minimal number of words. Please, help him.\\n\\n\\n-----Input-----\\n\\nThe first line of the input contains one integer $t$ ($1 \\\\le t \\\\le 10^4$) — the number of test cases in the input. Then $t$ test cases follow.\\n\\nThe first line of a test case contains one integer $n$ ($1 \\\\le n \\\\le 2\\\\cdot10^5$) — the number of words in the Polycarp\\'s set. Next $n$ lines contain these words. All of $n$ words aren\\'t empty and contains only characters \\'0\\' and \\'1\\'. The sum of word lengths doesn\\'t exceed $4\\\\cdot10^6$. All words are different.\\n\\nGuaranteed, that the sum of $n$ for all test cases in the input doesn\\'t exceed $2\\\\cdot10^5$. Also, guaranteed that the sum of word lengths for all test cases in the input doesn\\'t exceed $4\\\\cdot10^6$.\\n\\n\\n-----Output-----\\n\\nPrint answer for all of $t$ test cases in the order they appear.\\n\\nIf there is no answer for the test case, print -1. Otherwise, the first line of the output should contain $k$ ($0 \\\\le k \\\\le n$) — the minimal number of words in the set which should be reversed. The second line of the output should contain $k$ distinct integers — the indexes of the words in the set which should be reversed. Words are numerated from $1$ to $n$ in the order they appear. If $k=0$ you can skip this line (or you can print an empty line). If there are many answers you can print any of them.\\n\\n\\n-----Example-----\\nInput\\n4\\n4\\n0001\\n1000\\n0011\\n0111\\n3\\n010\\n101\\n0\\n2\\n00000\\n00001\\n4\\n01\\n001\\n0001\\n00001\\n\\nOutput\\n1\\n3 \\n-1\\n0\\n\\n2\\n1 2\\n\\nThe input will be stdin and you should print your solution to stdout\\n\\n\\nNow solve the problem and return the code.',\n",
       " 'gold_standard_solution': \"```python\\nfor _ in range(int(input())):\\n    n = int(input())\\n    mass = []\\n    zo = 0\\n    oz = 0\\n    zz = 0\\n    oo = 0\\n    ozs = []\\n    zos = []\\n    ozss = set()\\n    zoss = set()\\n    for j in range(n):\\n        k = input()\\n        mass.append(k)\\n        if k[0] == '0' and k[-1] == '1':\\n            zoss.add(k)\\n            zos.append(j + 1)\\n            zo += 1\\n        elif k[0] == '1' and k[-1] == '0':\\n            ozss.add(k)\\n            ozs.append(j + 1)\\n            oz += 1\\n        elif k[0] == '0' and k[-1] == '0':\\n            zz += 1\\n        else:\\n            oo += 1\\n    if zz and oo and not oz and not zo:\\n        print(-1)\\n        continue\\n    else:\\n        if zo > oz:\\n            print((zo - oz) // 2)\\n            ans = []\\n            need = (zo - oz) // 2\\n            i = 0\\n            while need:\\n                zzz = mass[zos[i] - 1][len(mass[zos[i] - 1]) - 1:: -1]\\n                if zzz not in ozss:\\n                    ans.append(zos[i])\\n                    need -= 1\\n                i += 1\\n            print(*ans)\\n        else:\\n            print((oz - zo) // 2)\\n            ans = []\\n            need = (oz - zo) // 2\\n            i = 0\\n            while need:\\n                zzz = mass[ozs[i] - 1][len(mass[ozs[i] - 1]) - 1:: -1]\\n                if zzz not in zoss:\\n                    ans.append(ozs[i])\\n                    need -= 1\\n                i += 1\\n            print(*ans)\\n\\n```\",\n",
       " 'verification_info': \"{'test_cases': [{'type': 'stdin_stdout', 'input': '4\\\\n4\\\\n0001\\\\n1000\\\\n0011\\\\n0111\\\\n3\\\\n010\\\\n101\\\\n0\\\\n2\\\\n00000\\\\n00001\\\\n4\\\\n01\\\\n001\\\\n0001\\\\n00001\\\\n', 'output': '1\\\\n3 \\\\n-1\\\\n0\\\\n\\\\n2\\\\n1 2 \\\\n'}], 'language': 'python'}\",\n",
       " 'metadata': \"{'difficulty': 'interview', 'problem_url': 'https://codeforces.com/problemset/problem/1259/D'}\",\n",
       " 'problem_id': 'vfc_0'}"
      ]
     },
     "execution_count": 7,
     "metadata": {},
     "output_type": "execute_result"
    }
   ],
   "source": [
    "dataset['train'][0]"
   ]
  },
  {
   "cell_type": "code",
   "execution_count": 16,
   "metadata": {},
   "outputs": [
    {
     "name": "stderr",
     "output_type": "stream",
     "text": [
      "Saving the dataset (3/3 shards): 100%|██████████| 7582/7582 [00:01<00:00, 6847.76 examples/s]\n"
     ]
    }
   ],
   "source": [
    "from datasets import load_from_disk\n",
    "\n",
    "dataset = load_from_disk('/home/rosmine/data2/rl_codegen/datasets/pi_verifiable_no_fn_call_train')\n",
    "\n",
    "def prompt_replace(example):\n",
    "    example['prompt'] = example['prompt'] + '\\nReturn the code within ```python ... ``` markup. Write unit tests for the code with the standard input/output like this: <test_input>(stdin)</test_input><test_output>(stdout)</test_output> tags. If you make multiple unit tests, use the <test_input> ... </test_input><test_output> ... </test_output> tags to write multiple unit tests one after another.'\n",
    "    return example\n",
    "\n",
    "dataset2 = dataset.map(prompt_replace)\n",
    "\n",
    "!rm -r '/home/rosmine/data2/rl_codegen/datasets/pi_verifiable_no_fn_call_train_with_unit_tests_v2'\n",
    "dataset2.save_to_disk('/home/rosmine/data2/rl_codegen/datasets/pi_verifiable_no_fn_call_train_with_unit_tests_v2')\n"
   ]
  },
  {
   "cell_type": "code",
   "execution_count": 17,
   "metadata": {},
   "outputs": [
    {
     "name": "stdout",
     "output_type": "stream",
     "text": [
      "Solve the following coding problem using the programming language python:\n",
      "\n",
      "You have a sequence of $n$ colored blocks. The color of the $i$-th block is $c_i$, an integer between $1$ and $n$.\n",
      "\n",
      "You will place the blocks down in sequence on an infinite coordinate grid in the following way.\n",
      "\n",
      "Initially, you place block $1$ at $(0, 0)$.\n",
      "\n",
      "For $2 \\le i \\le n$, if the $(i - 1)$-th block is placed at position $(x, y)$, then the $i$-th block can be placed at one of positions $(x + 1, y)$, $(x - 1, y)$, $(x, y + 1)$ (but not at position $(x, y - 1)$), as long no previous block was placed at that position.\n",
      "\n",
      "A tower is formed by $s$ blocks such that they are placed at positions $(x, y), (x, y + 1), \\ldots, (x, y + s - 1)$ for some position $(x, y)$ and integer $s$. The size of the tower is $s$, the number of blocks in it. A tower of color $r$ is a tower such that all blocks in it have the color $r$.\n",
      "\n",
      "For each color $r$ from $1$ to $n$, solve the following problem independently:\n",
      "\n",
      "Find the maximum size of a tower of color $r$ that you can form by placing down the blocks according to the rules.\n",
      "\n",
      "\n",
      "-----Input-----\n",
      "\n",
      "The first line contains a single integer $t$ ($1 \\le t \\le 10^4$) — the number of test cases.\n",
      "\n",
      "The first line of each test case contains a single integer $n$ ($1 \\le n \\le 10^5$).\n",
      "\n",
      "The second line of each test case contains $n$ integers $c_1, c_2, \\ldots, c_n$ ($1 \\le c_i \\le n$).\n",
      "\n",
      "It is guaranteed that the sum of $n$ over all test cases does not exceed $2 \\cdot 10^5$.\n",
      "\n",
      "\n",
      "-----Output-----\n",
      "\n",
      "For each test case, output $n$ integers. The $r$-th of them should be the maximum size of an tower of color $r$ you can form by following the given rules. If you cannot form any tower of color $r$, the $r$-th integer should be $0$.\n",
      "\n",
      "\n",
      "-----Examples-----\n",
      "\n",
      "Input\n",
      "6\n",
      "7\n",
      "1 2 3 1 2 3 1\n",
      "6\n",
      "4 2 2 2 4 4\n",
      "1\n",
      "1\n",
      "5\n",
      "5 4 5 3 5\n",
      "6\n",
      "3 3 3 1 3 3\n",
      "8\n",
      "1 2 3 4 4 3 2 1\n",
      "Output\n",
      "3 2 2 0 0 0 0 \n",
      "0 3 0 2 0 0 \n",
      "1 \n",
      "0 0 1 1 1 \n",
      "1 0 4 0 0 0 \n",
      "2 2 2 2 0 0 0 0\n",
      "\n",
      "\n",
      "-----Note-----\n",
      "\n",
      "In the first test case, one of the possible ways to form a tower of color $1$ and size $3$ is:\n",
      "\n",
      "place block $1$ at position $(0, 0)$;\n",
      "\n",
      "place block $2$ to the right of block $1$, at position $(1, 0)$;\n",
      "\n",
      "place block $3$ above block $2$, at position $(1, 1)$;\n",
      "\n",
      "place block $4$ to the left of block $3$, at position $(0, 1)$;\n",
      "\n",
      "place block $5$ to the left of block $4$, at position $(-1, 1)$;\n",
      "\n",
      "place block $6$ above block $5$, at position $(-1, 2)$;\n",
      "\n",
      "place block $7$ to the right of block $6$, at position $(0, 2)$.\n",
      "\n",
      "The blocks at positions $(0, 0)$, $(0, 1)$, and $(0, 2)$ all have color $1$, forming an tower of size $3$.\n",
      "\n",
      "In the second test case, note that the following placement is not valid, since you are not allowed to place block $6$ under block $5$:\n",
      "\n",
      "It can be shown that it is impossible to form a tower of color $4$ and size $3$.\n",
      "\n",
      "The input will be stdin and you should print your solution to stdout\n",
      "\n",
      "\n",
      "Now solve the problem and return the code.\n",
      "Return the code within ```python ... ``` markup. Write unit tests for the code with the standard input/output like this: <test_input>(stdin)</test_input><test_output>(stdout)</test_output> tags. If you make multiple unit tests, use the <test_input> ... </test_input><test_output> ... </test_output> tags to write multiple unit tests one after another.\n"
     ]
    }
   ],
   "source": [
    "dataset = load_from_disk('/home/rosmine/data2/rl_codegen/datasets/pi_verifiable_no_fn_call_train_with_unit_tests_v2')\n",
    "print(dataset[1]['prompt'])"
   ]
  }
 ],
 "metadata": {
  "kernelspec": {
   "display_name": "transformers",
   "language": "python",
   "name": "python3"
  },
  "language_info": {
   "codemirror_mode": {
    "name": "ipython",
    "version": 3
   },
   "file_extension": ".py",
   "mimetype": "text/x-python",
   "name": "python",
   "nbconvert_exporter": "python",
   "pygments_lexer": "ipython3",
   "version": "3.11.0"
  }
 },
 "nbformat": 4,
 "nbformat_minor": 2
}
